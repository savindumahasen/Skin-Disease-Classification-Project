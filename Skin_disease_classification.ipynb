{
  "nbformat": 4,
  "nbformat_minor": 0,
  "metadata": {
    "colab": {
      "provenance": [],
      "gpuType": "T4",
      "authorship_tag": "ABX9TyMMu41kRYRdBtYvAbLEqbFx",
      "include_colab_link": true
    },
    "kernelspec": {
      "name": "python3",
      "display_name": "Python 3"
    },
    "language_info": {
      "name": "python"
    },
    "accelerator": "GPU"
  },
  "cells": [
    {
      "cell_type": "markdown",
      "metadata": {
        "id": "view-in-github",
        "colab_type": "text"
      },
      "source": [
        "<a href=\"https://colab.research.google.com/github/savindumahasen/Skin-Disease-Classification-Project/blob/main/Skin_disease_classification.ipynb\" target=\"_parent\"><img src=\"https://colab.research.google.com/assets/colab-badge.svg\" alt=\"Open In Colab\"/></a>"
      ]
    },
    {
      "cell_type": "code",
      "execution_count": 2,
      "metadata": {
        "id": "ca_HSWji7V7I"
      },
      "outputs": [],
      "source": [
        "## install the necessary libraries\n",
        "!pip install numpy -q\n",
        "!pip install pandas -q\n",
        "!pip install matplotlib -q\n",
        "!pip install tensorflow -q\n",
        "!pip install opendatasets -q"
      ]
    },
    {
      "cell_type": "code",
      "source": [
        "## Import the necessary libraries\n",
        "import opendatasets as od\n",
        "import numpy as np\n",
        "import matplotlib.pyplot as plt\n",
        "import pandas as pd\n",
        "import tensorflow as tf"
      ],
      "metadata": {
        "id": "gd0BBS7n7d1U"
      },
      "execution_count": 3,
      "outputs": []
    },
    {
      "cell_type": "code",
      "source": [
        "## download the dataset\n",
        "od.download(\"https://www.kaggle.com/datasets/pritpal2873/multiple-skin-disease-detection-and-classification\")"
      ],
      "metadata": {
        "id": "8JDlRPAr7nSO",
        "colab": {
          "base_uri": "https://localhost:8080/"
        },
        "outputId": "61f9b195-fe28-4525-8d14-afad660fb8ff"
      },
      "execution_count": 4,
      "outputs": [
        {
          "output_type": "stream",
          "name": "stdout",
          "text": [
            "Please provide your Kaggle credentials to download this dataset. Learn more: http://bit.ly/kaggle-creds\n",
            "Your Kaggle username: savinduruhunuhewa\n",
            "Your Kaggle Key: ··········\n",
            "Dataset URL: https://www.kaggle.com/datasets/pritpal2873/multiple-skin-disease-detection-and-classification\n",
            "Downloading multiple-skin-disease-detection-and-classification.zip to ./multiple-skin-disease-detection-and-classification\n"
          ]
        },
        {
          "output_type": "stream",
          "name": "stderr",
          "text": [
            "100%|██████████| 785M/785M [00:11<00:00, 72.5MB/s]\n"
          ]
        },
        {
          "output_type": "stream",
          "name": "stdout",
          "text": [
            "\n"
          ]
        }
      ]
    },
    {
      "cell_type": "code",
      "source": [
        "## Define the batch size and image size\n",
        "BATCH_SIZE=32\n",
        "IMAGE_SIZE=(128,128)"
      ],
      "metadata": {
        "id": "a1N1zcuWFOfJ"
      },
      "execution_count": 5,
      "outputs": []
    },
    {
      "cell_type": "code",
      "source": [
        "## Load the dataset and split into train and test set\n",
        "\n",
        "skin_cancer_dataset = \"/content/multiple-skin-disease-detection-and-classification/Skin Cancer Dataset/\"\n",
        "\n",
        "train_set=tf.keras.utils.image_dataset_from_directory(skin_cancer_dataset ,\n",
        "                                                    batch_size=BATCH_SIZE,\n",
        "                                                    image_size=IMAGE_SIZE,\n",
        "                                                    subset='training',\n",
        "                                                    validation_split=0.2,\n",
        "                                                    seed=42)\n",
        "\n",
        "## this  validation  set treated as test set\n",
        "test_set=tf.keras.utils.image_dataset_from_directory(skin_cancer_dataset,\n",
        "                                                         subset='validation',\n",
        "                                                         batch_size=BATCH_SIZE,\n",
        "                                                         image_size=IMAGE_SIZE,\n",
        "                                                         validation_split=0.2,\n",
        "                                                         seed=42)\n",
        "\n",
        "\n",
        "\n"
      ],
      "metadata": {
        "colab": {
          "base_uri": "https://localhost:8080/"
        },
        "id": "YHFzZ91bNuAG",
        "outputId": "22a8fa4b-cc63-40ae-dd40-10c9e3c61e31"
      },
      "execution_count": 8,
      "outputs": [
        {
          "output_type": "stream",
          "name": "stdout",
          "text": [
            "Found 4107 files belonging to 9 classes.\n",
            "Using 3286 files for training.\n",
            "Found 4107 files belonging to 9 classes.\n",
            "Using 821 files for validation.\n"
          ]
        }
      ]
    },
    {
      "cell_type": "code",
      "source": [
        "## Get the target values\n",
        "\n",
        "class_names=train_set.class_names\n",
        "class_names"
      ],
      "metadata": {
        "id": "3Q1cBUgdcxNf",
        "colab": {
          "base_uri": "https://localhost:8080/"
        },
        "outputId": "dbde17a5-50cb-46cc-aafe-9638fc53b464"
      },
      "execution_count": 13,
      "outputs": [
        {
          "output_type": "execute_result",
          "data": {
            "text/plain": [
              "['Acitinic Keratosis',\n",
              " 'Basal Cell Carcinoma',\n",
              " 'Dermatofibroma',\n",
              " 'Melanoma',\n",
              " 'Nevus',\n",
              " 'Pigmented Benign Keratosis',\n",
              " 'Seborrheic Keratosis',\n",
              " 'Squamous Cell Carcinoma',\n",
              " 'Vascular Lesion']"
            ]
          },
          "metadata": {},
          "execution_count": 13
        }
      ]
    },
    {
      "cell_type": "code",
      "source": [
        "## Look at the one batch\n",
        "for image_size, label_batch in train_set.take(1):\n",
        "  print(image_size.shape)\n",
        "  print(label_batch.shape)"
      ],
      "metadata": {
        "colab": {
          "base_uri": "https://localhost:8080/"
        },
        "id": "Ml2Oxnqa7rsk",
        "outputId": "df66662d-3b4b-4df2-c312-4c21eb1b55a9"
      },
      "execution_count": 12,
      "outputs": [
        {
          "output_type": "stream",
          "name": "stdout",
          "text": [
            "(32, 128, 128, 3)\n",
            "(32,)\n"
          ]
        }
      ]
    },
    {
      "cell_type": "code",
      "source": [],
      "metadata": {
        "id": "W1IAfLKV8TSW"
      },
      "execution_count": null,
      "outputs": []
    }
  ]
}