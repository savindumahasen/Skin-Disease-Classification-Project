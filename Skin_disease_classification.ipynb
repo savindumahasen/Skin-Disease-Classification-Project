{
  "cells": [
    {
      "cell_type": "markdown",
      "metadata": {
        "id": "view-in-github",
        "colab_type": "text"
      },
      "source": [
        "<a href=\"https://colab.research.google.com/github/savindumahasen/Skin-Disease-Classification-Project/blob/main/Skin_disease_classification.ipynb\" target=\"_parent\"><img src=\"https://colab.research.google.com/assets/colab-badge.svg\" alt=\"Open In Colab\"/></a>"
      ]
    },
    {
      "cell_type": "code",
      "execution_count": 1,
      "metadata": {
        "id": "ca_HSWji7V7I"
      },
      "outputs": [],
      "source": [
        "## install the necessary libraries\n",
        "!pip install numpy -q\n",
        "!pip install pandas -q\n",
        "!pip install matplotlib -q\n",
        "!pip install tensorflow -q\n",
        "!pip install opendatasets -q"
      ]
    },
    {
      "cell_type": "code",
      "execution_count": 2,
      "metadata": {
        "id": "gd0BBS7n7d1U"
      },
      "outputs": [],
      "source": [
        "## Import the necessary libraries\n",
        "import opendatasets as od\n",
        "import numpy as np\n",
        "import matplotlib.pyplot as plt\n",
        "import pandas as pd\n",
        "import tensorflow as tf"
      ]
    },
    {
      "cell_type": "code",
      "execution_count": 3,
      "metadata": {
        "id": "8JDlRPAr7nSO",
        "colab": {
          "base_uri": "https://localhost:8080/"
        },
        "outputId": "c0523e39-f78e-4225-c976-0fa69fdfbe9d"
      },
      "outputs": [
        {
          "output_type": "stream",
          "name": "stdout",
          "text": [
            "Please provide your Kaggle credentials to download this dataset. Learn more: http://bit.ly/kaggle-creds\n",
            "Your Kaggle username: savinduruhunuhewa\n",
            "Your Kaggle Key: ··········\n",
            "Dataset URL: https://www.kaggle.com/datasets/pritpal2873/multiple-skin-disease-detection-and-classification\n",
            "Downloading multiple-skin-disease-detection-and-classification.zip to ./multiple-skin-disease-detection-and-classification\n"
          ]
        },
        {
          "output_type": "stream",
          "name": "stderr",
          "text": [
            "100%|██████████| 785M/785M [00:06<00:00, 119MB/s]\n"
          ]
        },
        {
          "output_type": "stream",
          "name": "stdout",
          "text": [
            "\n"
          ]
        }
      ],
      "source": [
        "## download the dataset\n",
        "od.download(\"https://www.kaggle.com/datasets/pritpal2873/multiple-skin-disease-detection-and-classification\")"
      ]
    },
    {
      "cell_type": "code",
      "execution_count": 4,
      "metadata": {
        "id": "a1N1zcuWFOfJ"
      },
      "outputs": [],
      "source": [
        "## Define the batch size and image size\n",
        "BATCH_SIZE=32\n",
        "IMAGE_SIZE=(128,128)"
      ]
    },
    {
      "cell_type": "code",
      "execution_count": 5,
      "metadata": {
        "id": "YHFzZ91bNuAG",
        "colab": {
          "base_uri": "https://localhost:8080/"
        },
        "outputId": "d939a172-be67-4b6b-a4c3-c7ae89405319"
      },
      "outputs": [
        {
          "output_type": "stream",
          "name": "stdout",
          "text": [
            "✅ Dataset successfully split into Train, Validation, and Test sets.\n",
            "\n",
            "📂 Reading images from Validation set...\n",
            "\n",
            "🧪 Class: Melanoma\n",
            "🧪 Class: Squamous Cell Carcinoma\n",
            "🧪 Class: Dermatofibroma\n",
            "🧪 Class: Nevus\n",
            "🧪 Class: Acitinic Keratosis\n",
            "🧪 Class: Basal Cell Carcinoma\n",
            "🧪 Class: Pigmented Benign Keratosis\n",
            "🧪 Class: Vascular Lesion\n",
            "🧪 Class: Seborrheic Keratosis\n"
          ]
        }
      ],
      "source": [
        "import os\n",
        "import random\n",
        "import shutil\n",
        "from math import floor\n",
        "import matplotlib.pyplot as plt\n",
        "import matplotlib.image as mpimg\n",
        "\n",
        "# Define paths\n",
        "dataset_dir = '/content/multiple-skin-disease-detection-and-classification/Skin Cancer Dataset'\n",
        "output_dir = '/content/multiple-skin-disease-detection-and-classification/working'\n",
        "\n",
        "# Allowed image extensions\n",
        "IMG_EXTENSIONS = ('.png', '.jpg', '.jpeg', '.bmp')\n",
        "\n",
        "def split_dataset(dataset_dir, output_dir, train_ratio=0.8, val_ratio=0.1, test_ratio=0.1):\n",
        "    train_dir = os.path.join(output_dir, 'Train')\n",
        "    val_dir = os.path.join(output_dir, 'Validation')\n",
        "    test_dir = os.path.join(output_dir, 'Test')\n",
        "\n",
        "    os.makedirs(train_dir, exist_ok=True)\n",
        "    os.makedirs(val_dir, exist_ok=True)\n",
        "    os.makedirs(test_dir, exist_ok=True)\n",
        "\n",
        "    for class_name in os.listdir(dataset_dir):\n",
        "        class_dir = os.path.join(dataset_dir, class_name)\n",
        "        if not os.path.isdir(class_dir):\n",
        "            continue\n",
        "\n",
        "        image_files = [\n",
        "            f for f in os.listdir(class_dir)\n",
        "            if f.lower().endswith(IMG_EXTENSIONS) and os.path.isfile(os.path.join(class_dir, f))\n",
        "        ]\n",
        "        random.shuffle(image_files)\n",
        "\n",
        "        total_images = len(image_files)\n",
        "        train_count = floor(total_images * train_ratio)\n",
        "        val_count = floor(total_images * val_ratio)\n",
        "        test_count = total_images - train_count - val_count\n",
        "\n",
        "        train_files = image_files[:train_count]\n",
        "        val_files = image_files[train_count:train_count + val_count]\n",
        "        test_files = image_files[train_count + val_count:]\n",
        "\n",
        "        for file in train_files:\n",
        "            src = os.path.join(class_dir, file)\n",
        "            dest = os.path.join(train_dir, class_name)\n",
        "            os.makedirs(dest, exist_ok=True)\n",
        "            shutil.copy(src, dest)\n",
        "\n",
        "        for file in val_files:\n",
        "            src = os.path.join(class_dir, file)\n",
        "            dest = os.path.join(val_dir, class_name)\n",
        "            os.makedirs(dest, exist_ok=True)\n",
        "            shutil.copy(src, dest)\n",
        "\n",
        "        for file in test_files:\n",
        "            src = os.path.join(class_dir, file)\n",
        "            dest = os.path.join(test_dir, class_name)\n",
        "            os.makedirs(dest, exist_ok=True)\n",
        "            shutil.copy(src, dest)\n",
        "\n",
        "    print(\"✅ Dataset successfully split into Train, Validation, and Test sets.\\n\")\n",
        "\n",
        "\n",
        "# ✅ Step 1: Split dataset\n",
        "split_dataset(dataset_dir, output_dir)\n",
        "\n",
        "# ✅ Step 2: Display images from Validation set using matplotlib (Colab compatible)\n",
        "val_dir = os.path.join(output_dir, 'Validation')\n",
        "print(\"📂 Reading images from Validation set...\\n\")\n",
        "\n",
        "for class_name in os.listdir(val_dir):\n",
        "    class_path = os.path.join(val_dir, class_name)\n",
        "    if not os.path.isdir(class_path):\n",
        "        continue\n",
        "\n",
        "    print(f\"🧪 Class: {class_name}\")\n",
        "    for img_name in os.listdir(class_path):\n",
        "        img_path = os.path.join(class_path, img_name)\n",
        "\n",
        "        # Filter only image files\n",
        "        #if os.path.isfile(img_path) and img_name.lower().endswith(IMG_EXTENSIONS):\n",
        "        #    try:\n",
        "        #        img = mpimg.imread(img_path)\n",
        "        #        plt.imshow(img)\n",
        "        #        plt.title(f\"Class: {class_name}\")\n",
        "        #        plt.axis('off')\n",
        "        #        plt.show()\n",
        "        #    except Exception as e:\n",
        "        #        print(f\"⚠️ Failed to load image {img_path}: {e}\")\n"
      ]
    },
    {
      "cell_type": "code",
      "execution_count": 10,
      "metadata": {
        "id": "3Q1cBUgdcxNf",
        "colab": {
          "base_uri": "https://localhost:8080/"
        },
        "outputId": "4ffbd879-fc35-43d4-eee8-4486a55ffb49"
      },
      "outputs": [
        {
          "output_type": "stream",
          "name": "stdout",
          "text": [
            "Found 3285 files belonging to 9 classes.\n",
            "Found 414 files belonging to 9 classes.\n",
            "Found 408 files belonging to 9 classes.\n"
          ]
        }
      ],
      "source": [
        "## Load the train set, test set, and validation set\n",
        "train_dir = \"/content/multiple-skin-disease-detection-and-classification/working/Train\"\n",
        "test_dir=\"/content/multiple-skin-disease-detection-and-classification/working/Test\"\n",
        "validation_dir=\"/content/multiple-skin-disease-detection-and-classification/working/Validation\"\n",
        "\n",
        "train_set=tf.keras.utils.image_dataset_from_directory(train_dir,\n",
        "                                                      batch_size=BATCH_SIZE,\n",
        "                                                      image_size=IMAGE_SIZE)\n",
        "test_dir=tf.keras.utils.image_dataset_from_directory(test_dir,\n",
        "                                                     batch_size=BATCH_SIZE,\n",
        "                                                     image_size=IMAGE_SIZE)\n",
        "validation_dir=tf.keras.utils.image_dataset_from_directory(validation_dir,\n",
        "                                                          batch_size=BATCH_SIZE,\n",
        "                                                          image_size=IMAGE_SIZE)"
      ]
    },
    {
      "cell_type": "code",
      "execution_count": null,
      "metadata": {
        "id": "Ml2Oxnqa7rsk"
      },
      "outputs": [],
      "source": [
        "## Look at the one batch\n",
        "for image_size, label_batch in train_set.take(1):\n",
        "  print(image_size.shape)\n",
        "  print(label_batch.shape)"
      ]
    },
    {
      "cell_type": "code",
      "execution_count": null,
      "metadata": {
        "id": "W1IAfLKV8TSW"
      },
      "outputs": [],
      "source": [
        "## Plot the training set sample\n",
        "\n",
        "plt.figure(figsize=(10,4))\n",
        "for image,label in train_set.take(1):\n",
        "  for i in range(10):\n",
        "    ax=plt.subplot(2,5,i+1)\n",
        "    plt.imshow(image[i].numpy().astype(\"uint8\"))\n",
        "    plt.title(class_names[label[i]], fontsize=6)\n",
        "    plt.axis('off')"
      ]
    },
    {
      "cell_type": "code",
      "execution_count": null,
      "metadata": {
        "id": "d-h2AoycEEbr"
      },
      "outputs": [],
      "source": [
        "## Look at the images pixal values by taking one batch\n",
        "for image, label in train_set.take(1):\n",
        "  print(image)"
      ]
    },
    {
      "cell_type": "code",
      "execution_count": null,
      "metadata": {
        "id": "TWfOcbPGGeAi"
      },
      "outputs": [],
      "source": [
        "## Normalize the  train and test dataset\n",
        "train_set_new=train_set.map(lambda x,y:(x/255,y))\n",
        "#test_set_new=test_set.map(lambda x,y:(x/255,y))"
      ]
    },
    {
      "cell_type": "code",
      "execution_count": null,
      "metadata": {
        "id": "X6GrgSeXG_gk"
      },
      "outputs": [],
      "source": [
        "## Print the normalize data of one batch of train set\n",
        "#for image, label in train_set_new.take(1):\n",
        "#    print(image)"
      ]
    },
    {
      "cell_type": "code",
      "execution_count": null,
      "metadata": {
        "id": "-S14hAdaHBbP"
      },
      "outputs": [],
      "source": [
        "## use the pre-train  Xception model\n",
        "#pretrained_model=tf.keras.applications.Xception(include_top=False,\n",
        "#                               input_shape=(128,128,3),\n",
        "#                               weights='imagenet',\n",
        "#                               pooling='max',\n",
        "#                                               )\n",
        "#pretrained_model\n",
        "\n",
        "#for layer in pretrained_model.layers:\n",
        "#  layer.trainable=False\n",
        "\n",
        "\n",
        "#pretrained_model=tf.keras.applications.ResNet50(include_top=False,\n",
        "#                                                weights='imagenet',\n",
        "#                                                input_shape=(128,128,3),\n",
        "#                                                pooling='max',\n",
        "\n",
        "#)"
      ]
    },
    {
      "cell_type": "code",
      "execution_count": null,
      "metadata": {
        "id": "fTzhHSB0L2oa"
      },
      "outputs": [],
      "source": [
        "## Build the model\n",
        "\n",
        "model=tf.keras.models.Sequential()\n",
        "#model.add(pretrained_model)\n",
        "model.add(tf.keras.layers.Flatten())\n",
        "model.add(tf.keras.layers.Dense(32,activation='relu'))\n",
        "model.add(tf.keras.layers.Dense(64,activation='relu'))\n",
        "model.add(tf.keras.layers.Dense(128,activation='relu'))\n",
        "\n",
        "model.add(tf.keras.layers.Dense(9,activation='softmax'))\n"
      ]
    },
    {
      "cell_type": "code",
      "execution_count": null,
      "metadata": {
        "id": "WEgLAPBcNL6X"
      },
      "outputs": [],
      "source": [
        "## get the summary of model\n",
        "\n",
        "model.summary()"
      ]
    },
    {
      "cell_type": "code",
      "execution_count": null,
      "metadata": {
        "id": "ygtH0MgQN-pY"
      },
      "outputs": [],
      "source": [
        "## compile the model\n",
        "\n",
        "\n",
        "model.compile(optimizer=tf.keras.optimizers.SGD(),\n",
        "              loss=tf.keras.losses.sparse_categorical_crossentropy,\n",
        "              metrics=['accuracy'])"
      ]
    },
    {
      "cell_type": "code",
      "execution_count": null,
      "metadata": {
        "id": "Q2644w2_O7bW"
      },
      "outputs": [],
      "source": [
        "## train the model\n",
        "import time\n",
        "start_time=time.time()\n",
        "history=model.fit(train_set_new,validation_data=validation_set, epochs=10, batch_size=32)\n",
        "end_time=time.time()\n"
      ]
    },
    {
      "cell_type": "code",
      "execution_count": null,
      "metadata": {
        "id": "jvP6s-Jq-34F"
      },
      "outputs": [],
      "source": [
        "\n",
        "## plot the  accuracy  and loss\n",
        "fig=plt.figure()\n",
        "plt.plot(history.history['accuracy'], color='teal',label='accuracy')\n",
        "plt.plot(history.history['loss'], color='orange', label='loss')\n",
        "plt.suptitle('Accuracy vs Loss', fontsize=20)\n",
        "plt.legend()\n",
        "plt.show()"
      ]
    },
    {
      "cell_type": "code",
      "execution_count": null,
      "metadata": {
        "id": "rUy01ZzpO-CN"
      },
      "outputs": [],
      "source": [
        "## Test set"
      ]
    },
    {
      "cell_type": "code",
      "execution_count": null,
      "metadata": {
        "id": "NEERmSLu8r-n"
      },
      "outputs": [],
      "source": [
        "## Plot the testing set sample\n",
        "\n",
        "plt.figure(figsize=(10,4))\n",
        "for image,label in test_set.take(1):\n",
        "  for i in range(10):\n",
        "    ax=plt.subplot(2,5,i+1)\n",
        "    plt.imshow(image[i].numpy().astype(\"uint8\"))\n",
        "    plt.title(class_names[label[i]], fontsize=6)\n",
        "    plt.axis('off')"
      ]
    },
    {
      "cell_type": "code",
      "execution_count": null,
      "metadata": {
        "id": "pXJEblfo87Oo"
      },
      "outputs": [],
      "source": [
        "## Get the test data image and its label shape\n",
        "def test_image():\n",
        "  for image,label in test_set:\n",
        "    return image\n",
        "test_image=test_image()\n",
        "print(test_image.shape)\n",
        "\n",
        "\n",
        "def test_image_label():\n",
        "  for image,label in test_set:\n",
        "    return label\n",
        "test_label=test_image_label()\n",
        "print(test_label.shape)"
      ]
    },
    {
      "cell_type": "code",
      "execution_count": null,
      "metadata": {
        "id": "1T8dpA7n_vkN"
      },
      "outputs": [],
      "source": [
        "## import the model peformance metrices\n",
        "\n",
        "precision=tf.keras.metrics.Precision()\n",
        "recall=tf.keras.metrics.Recall()\n",
        "accuracy=tf.keras.metrics.Accuracy()"
      ]
    },
    {
      "cell_type": "code",
      "execution_count": null,
      "metadata": {
        "id": "vOuy-wT8MvG2"
      },
      "outputs": [],
      "source": [
        "## make the predictions using  one test data batch\n",
        "model_predictions_new=model.predict(test_image)\n",
        "model_predictions_new.shape"
      ]
    },
    {
      "cell_type": "code",
      "execution_count": null,
      "metadata": {
        "id": "dnEA5P3LM8Bn"
      },
      "outputs": [],
      "source": [
        "\n",
        "## evaluvate the model performance using performance metrices\n",
        "\n",
        "for batch in test_set.as_numpy_iterator():\n",
        "    X, y = batch\n",
        "\n",
        "    yhat = model.predict(X)  # (32, 9)\n",
        "    yhat_classes = np.argmax(yhat, axis=1)  # (32,)\n",
        "\n",
        "    precision.update_state(y, yhat_classes)\n",
        "    recall.update_state(y,yhat_classes)\n",
        "    accuracy.update_state(y,yhat_classes)"
      ]
    },
    {
      "cell_type": "code",
      "execution_count": null,
      "metadata": {
        "id": "zLF4xUzqNZax"
      },
      "outputs": [],
      "source": [
        "precision.result(), recall.result(), accuracy.result()"
      ]
    },
    {
      "cell_type": "code",
      "execution_count": null,
      "metadata": {
        "id": "afSNrSGsNpGO"
      },
      "outputs": [],
      "source": [
        "## Make the predictions based on the test data\n",
        "predictions = model.predict(X)\n",
        "predictions[1]"
      ]
    },
    {
      "cell_type": "code",
      "execution_count": null,
      "metadata": {
        "id": "I2mbened0Lzj"
      },
      "outputs": [],
      "source": [
        "class_names"
      ]
    },
    {
      "cell_type": "code",
      "execution_count": null,
      "metadata": {
        "id": "xj9nAkMy0j3Q"
      },
      "outputs": [],
      "source": [
        "\n",
        "## get the predicted class  index\n",
        "import numpy  as np\n",
        "predicted_index=np.argmax(predictions[1])\n",
        "predicted_index"
      ]
    },
    {
      "cell_type": "code",
      "execution_count": null,
      "metadata": {
        "id": "Cp8miCMG0tkF"
      },
      "outputs": [],
      "source": [
        "\n",
        "class_name=['Actinic Keratosis','Basal Cell Carcinoma','Dermatofibroma', 'Melanoma','Nevus','Pigmented Benign Keratosis','Seborrheic Keratosis','Squamous Cell Carcinoma','Vascular Lesion']\n",
        "predicted_class=class_name[predicted_index]\n",
        "print(\"Brain Tumor : \",predicted_class)"
      ]
    },
    {
      "cell_type": "code",
      "execution_count": null,
      "metadata": {
        "id": "3qdn6ZTX1ZmA"
      },
      "outputs": [],
      "source": [
        "## use the model based on the user data"
      ]
    },
    {
      "cell_type": "code",
      "execution_count": null,
      "metadata": {
        "id": "yC5BJJD41hVp"
      },
      "outputs": [],
      "source": [
        "!pip install opencv-python"
      ]
    },
    {
      "cell_type": "code",
      "execution_count": null,
      "metadata": {
        "id": "djrnfE_e1nxn"
      },
      "outputs": [],
      "source": [
        "import cv2"
      ]
    },
    {
      "cell_type": "code",
      "execution_count": null,
      "metadata": {
        "id": "JWcQRVg31ryJ"
      },
      "outputs": [],
      "source": [
        "\n",
        "image=cv2.imread(\"/content/multiple-skin-disease-detection-and-classification/Skin Cancer Dataset/Acitinic Keratosis/ISIC_7199177.jpg\")\n",
        "plt.imshow(image)\n",
        "plt.show()"
      ]
    },
    {
      "cell_type": "code",
      "execution_count": null,
      "metadata": {
        "id": "FBK05qCL19HG"
      },
      "outputs": [],
      "source": [
        "## scaled the data\n",
        "\n",
        "resized_image=tf.image.resize(image,IMAGE_SIZE)\n",
        "scaled_image=resized_image/255"
      ]
    },
    {
      "cell_type": "code",
      "execution_count": null,
      "metadata": {
        "id": "hoB39CQl2M-3"
      },
      "outputs": [],
      "source": [
        "scaled_image"
      ]
    },
    {
      "cell_type": "code",
      "execution_count": null,
      "metadata": {
        "id": "IKRudfWt2mCH"
      },
      "outputs": [],
      "source": []
    }
  ],
  "metadata": {
    "colab": {
      "provenance": [],
      "gpuType": "T4",
      "authorship_tag": "ABX9TyPG15xuM5zpj0PvosUj6DOA",
      "include_colab_link": true
    },
    "kernelspec": {
      "display_name": "Python 3",
      "name": "python3"
    },
    "language_info": {
      "name": "python"
    },
    "accelerator": "GPU"
  },
  "nbformat": 4,
  "nbformat_minor": 0
}