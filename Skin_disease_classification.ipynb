{
  "nbformat": 4,
  "nbformat_minor": 0,
  "metadata": {
    "colab": {
      "provenance": [],
      "gpuType": "T4",
      "authorship_tag": "ABX9TyOUA1eqwmbHmbPPwxJfPWO2",
      "include_colab_link": true
    },
    "kernelspec": {
      "name": "python3",
      "display_name": "Python 3"
    },
    "language_info": {
      "name": "python"
    },
    "accelerator": "GPU"
  },
  "cells": [
    {
      "cell_type": "markdown",
      "metadata": {
        "id": "view-in-github",
        "colab_type": "text"
      },
      "source": [
        "<a href=\"https://colab.research.google.com/github/savindumahasen/Skin-Disease-Classification-Project/blob/main/Skin_disease_classification.ipynb\" target=\"_parent\"><img src=\"https://colab.research.google.com/assets/colab-badge.svg\" alt=\"Open In Colab\"/></a>"
      ]
    },
    {
      "cell_type": "code",
      "execution_count": 1,
      "metadata": {
        "id": "ca_HSWji7V7I"
      },
      "outputs": [],
      "source": [
        "## install the necessary libraries\n",
        "!pip install numpy -q\n",
        "!pip install pandas -q\n",
        "!pip install matplotlib -q\n",
        "!pip install tensorflow -q\n",
        "!pip install opendatasets -q"
      ]
    },
    {
      "cell_type": "code",
      "source": [
        "## Import the necessary libraries\n",
        "import opendatasets as od\n",
        "import numpy as np\n",
        "import matplotlib.pyplot as plt\n",
        "import pandas as pd\n",
        "import tensorflow as tf"
      ],
      "metadata": {
        "id": "gd0BBS7n7d1U"
      },
      "execution_count": 3,
      "outputs": []
    },
    {
      "cell_type": "code",
      "source": [
        "## download the dataset\n",
        "od.download(\"https://www.kaggle.com/datasets/pritpal2873/multiple-skin-disease-detection-and-classification\")"
      ],
      "metadata": {
        "id": "8JDlRPAr7nSO",
        "colab": {
          "base_uri": "https://localhost:8080/"
        },
        "outputId": "216589ef-9a43-431d-82d0-97c52f7531be"
      },
      "execution_count": 4,
      "outputs": [
        {
          "output_type": "stream",
          "name": "stdout",
          "text": [
            "Please provide your Kaggle credentials to download this dataset. Learn more: http://bit.ly/kaggle-creds\n",
            "Your Kaggle username: savinduruhunuhewa\n",
            "Your Kaggle Key: ··········\n",
            "Dataset URL: https://www.kaggle.com/datasets/pritpal2873/multiple-skin-disease-detection-and-classification\n",
            "Downloading multiple-skin-disease-detection-and-classification.zip to ./multiple-skin-disease-detection-and-classification\n"
          ]
        },
        {
          "output_type": "stream",
          "name": "stderr",
          "text": [
            "100%|██████████| 785M/785M [00:08<00:00, 95.9MB/s]\n"
          ]
        },
        {
          "output_type": "stream",
          "name": "stdout",
          "text": [
            "\n"
          ]
        }
      ]
    },
    {
      "cell_type": "code",
      "source": [
        "## Define the batch size and image size\n",
        "BATCH_SIZE=32\n",
        "IMAGE_SIZE=(128,128)"
      ],
      "metadata": {
        "id": "a1N1zcuWFOfJ"
      },
      "execution_count": 5,
      "outputs": []
    },
    {
      "cell_type": "code",
      "source": [
        "## Define the  skin cancer dataset directory paths\n",
        "acitinic_keratosis_data = \"/content/multiple-skin-disease-detection-and-classification/Skin Cancer Dataset/Acitinic Keratosis\"\n",
        "basal_cell_carcinoma_data = \"/content/multiple-skin-disease-detection-and-classification/Skin Cancer Dataset/Basal Cell Carcinoma\"\n",
        "dermatofibroma_data = \"/content/multiple-skin-disease-detection-and-classification/Skin Cancer Dataset/Dermatofibroma\"\n",
        "Melanoma_data = \"/content/multiple-skin-disease-detection-and-classification/Skin Cancer Dataset/Melanoma\"\n",
        "Nevus_data=\"/content/multiple-skin-disease-detection-and-classification/Skin Cancer Dataset/Nevus\"\n",
        "Pigmented_Benign_Keratosis_data=\"/content/multiple-skin-disease-detection-and-classification/Skin Cancer Dataset/Pigmented Benign Keratosis\"\n",
        "seborrheic_keratosis_data=\"/content/multiple-skin-disease-detection-and-classification/Skin Cancer Dataset/Seborrheic Keratosis\"\n",
        "squamous_cell_carcinoma = \"/content/multiple-skin-disease-detection-and-classification/Skin Cancer Dataset/Squamous Cell Carcinoma\"\n",
        "vascular_lesion= \"/content/multiple-skin-disease-detection-and-classification/Skin Cancer Dataset/Vascular Lesion\""
      ],
      "metadata": {
        "id": "5BwesjvxKMGK"
      },
      "execution_count": 6,
      "outputs": []
    },
    {
      "cell_type": "code",
      "source": [],
      "metadata": {
        "id": "YHFzZ91bNuAG"
      },
      "execution_count": null,
      "outputs": []
    }
  ]
}