{
  "nbformat": 4,
  "nbformat_minor": 0,
  "metadata": {
    "colab": {
      "provenance": [],
      "gpuType": "T4",
      "authorship_tag": "ABX9TyPL+NT8VG+zzT7yQVowqWfD",
      "include_colab_link": true
    },
    "kernelspec": {
      "name": "python3",
      "display_name": "Python 3"
    },
    "language_info": {
      "name": "python"
    },
    "accelerator": "GPU"
  },
  "cells": [
    {
      "cell_type": "markdown",
      "metadata": {
        "id": "view-in-github",
        "colab_type": "text"
      },
      "source": [
        "<a href=\"https://colab.research.google.com/github/savindumahasen/Skin-Disease-Classification-Project/blob/main/Skin_disease_classification.ipynb\" target=\"_parent\"><img src=\"https://colab.research.google.com/assets/colab-badge.svg\" alt=\"Open In Colab\"/></a>"
      ]
    },
    {
      "cell_type": "code",
      "execution_count": 1,
      "metadata": {
        "id": "ca_HSWji7V7I"
      },
      "outputs": [],
      "source": [
        "## install the necessary libraries\n",
        "!pip install numpy -q\n",
        "!pip install pandas -q\n",
        "!pip install matplotlib -q\n",
        "!pip install tensorflow -q\n",
        "!pip install opendatasets -q"
      ]
    },
    {
      "cell_type": "code",
      "source": [
        "## Import the necessary libraries\n",
        "import opendatasets as od\n",
        "import numpy as np\n",
        "import matplotlib.pyplot as plt\n",
        "import pandas as pd\n",
        "import tensorflow as tf"
      ],
      "metadata": {
        "id": "gd0BBS7n7d1U"
      },
      "execution_count": 3,
      "outputs": []
    },
    {
      "cell_type": "code",
      "source": [
        "## download the dataset\n",
        "od.download(\"https://www.kaggle.com/datasets/pritpal2873/multiple-skin-disease-detection-and-classification\")"
      ],
      "metadata": {
        "id": "8JDlRPAr7nSO",
        "colab": {
          "base_uri": "https://localhost:8080/"
        },
        "outputId": "216589ef-9a43-431d-82d0-97c52f7531be"
      },
      "execution_count": 4,
      "outputs": [
        {
          "output_type": "stream",
          "name": "stdout",
          "text": [
            "Please provide your Kaggle credentials to download this dataset. Learn more: http://bit.ly/kaggle-creds\n",
            "Your Kaggle username: savinduruhunuhewa\n",
            "Your Kaggle Key: ··········\n",
            "Dataset URL: https://www.kaggle.com/datasets/pritpal2873/multiple-skin-disease-detection-and-classification\n",
            "Downloading multiple-skin-disease-detection-and-classification.zip to ./multiple-skin-disease-detection-and-classification\n"
          ]
        },
        {
          "output_type": "stream",
          "name": "stderr",
          "text": [
            "100%|██████████| 785M/785M [00:08<00:00, 95.9MB/s]\n"
          ]
        },
        {
          "output_type": "stream",
          "name": "stdout",
          "text": [
            "\n"
          ]
        }
      ]
    },
    {
      "cell_type": "code",
      "source": [
        "## Define the batch size and image size\n",
        "BATCH_SIZE=32\n",
        "IMAGE_SIZE=(128,128)"
      ],
      "metadata": {
        "id": "a1N1zcuWFOfJ"
      },
      "execution_count": 5,
      "outputs": []
    },
    {
      "cell_type": "code",
      "source": [
        "## Load the dataset and split into train and test set\n",
        "\n",
        "skin_cancer_dataset = \"/content/multiple-skin-disease-detection-and-classification/Skin-Cancer-Dataset/\"\n",
        "\n",
        "dataset_train=tf.keras.utils.image_dataset_from_directory(skin_cancer_dataset ,\n",
        "                                                    batch_size=BATCH_SIZE,\n",
        "                                                    image_size=IMAGE_SIZE,\n",
        "                                                    subset='training',\n",
        "                                                    validation_split=0.2,\n",
        "                                                    seed=42)\n",
        "\n",
        "dataset_test=tf.keras.utils.image_dataset_from_directory(skin_cancer_dataset,\n",
        "                                                         subset='validation',\n",
        "                                                         batch_size=BATCH_SIZE,\n",
        "                                                         image_size=IMAGE_SIZE,\n",
        "                                                         validation_split=0.2,\n",
        "                                                         seed=42)\n",
        "\n",
        "\n",
        "\n"
      ],
      "metadata": {
        "colab": {
          "base_uri": "https://localhost:8080/"
        },
        "id": "YHFzZ91bNuAG",
        "outputId": "cb325848-cf96-4835-ffdd-a2c6f59920e8"
      },
      "execution_count": 51,
      "outputs": [
        {
          "output_type": "stream",
          "name": "stdout",
          "text": [
            "Found 4107 files belonging to 9 classes.\n",
            "Using 3286 files for training.\n",
            "Found 4107 files belonging to 9 classes.\n",
            "Using 821 files for validation.\n"
          ]
        }
      ]
    },
    {
      "cell_type": "code",
      "source": [],
      "metadata": {
        "colab": {
          "base_uri": "https://localhost:8080/",
          "height": 141
        },
        "id": "4kTItxJZOgAQ",
        "outputId": "b96fd3e2-4cd0-47b3-ede8-2622ce4e8d36"
      },
      "execution_count": 24,
      "outputs": [
        {
          "output_type": "error",
          "ename": "AttributeError",
          "evalue": "'_PrefetchDataset' object has no attribute 'shape'",
          "traceback": [
            "\u001b[0;31m---------------------------------------------------------------------------\u001b[0m",
            "\u001b[0;31mAttributeError\u001b[0m                            Traceback (most recent call last)",
            "\u001b[0;32m<ipython-input-24-1265404596>\u001b[0m in \u001b[0;36m<cell line: 0>\u001b[0;34m()\u001b[0m\n\u001b[0;32m----> 1\u001b[0;31m \u001b[0mdataset\u001b[0m\u001b[0;34m.\u001b[0m\u001b[0mshape\u001b[0m\u001b[0;34m(\u001b[0m\u001b[0;34m)\u001b[0m\u001b[0;34m\u001b[0m\u001b[0;34m\u001b[0m\u001b[0m\n\u001b[0m",
            "\u001b[0;31mAttributeError\u001b[0m: '_PrefetchDataset' object has no attribute 'shape'"
          ]
        }
      ]
    },
    {
      "cell_type": "code",
      "source": [
        "/content/multiple-skin-disease-detection-and-classification/Skin-Cancer-Dataset/Acitinic-Keratosis"
      ],
      "metadata": {
        "id": "gNxPfjZLP4x0"
      },
      "execution_count": null,
      "outputs": []
    }
  ]
}